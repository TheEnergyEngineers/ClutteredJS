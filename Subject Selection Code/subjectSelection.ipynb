{
 "cells": [
  {
   "cell_type": "code",
   "execution_count": 2,
   "metadata": {},
   "outputs": [],
   "source": [
    "import pyautogui\n",
    "import pandas as pd\n",
    "from time import sleep\n",
    "import os\n",
    "from tqdm import tqdm\n",
    "import sys"
   ]
  },
  {
   "cell_type": "markdown",
   "metadata": {},
   "source": [
    "#### Load the list of URLS on the JSCleaner Proxy"
   ]
  },
  {
   "cell_type": "code",
   "execution_count": 3,
   "metadata": {},
   "outputs": [],
   "source": [
    "urls = pd.read_csv(\"urls.csv\", header=None)\n",
    "urls = urls.drop([1], axis=1)\n",
    "\n",
    "# Get the regular urls\n",
    "regular_urls_list = list(urls[0])\n",
    "\n",
    "# Prepare the JSCleaner URLS\n",
    "jscleaner_urls_list = [url + '?JSCleaner.html' for url in regular_urls_list]"
   ]
  },
  {
   "cell_type": "code",
   "execution_count": 4,
   "metadata": {},
   "outputs": [
    {
     "data": {
      "text/plain": [
       "['https://www.thetimes.co.uk/?JSCleaner.html',\n",
       " 'https://www.nih.gov/?JSCleaner.html',\n",
       " 'https://www.zillow.com/?JSCleaner.html',\n",
       " 'https://www.yelp.com/?JSCleaner.html',\n",
       " 'https://www.wufoo.com/?JSCleaner.html',\n",
       " 'https://www.whatsapp.com/?JSCleaner.html',\n",
       " 'https://www.vmware.com/?JSCleaner.html',\n",
       " 'https://www.typeform.com/?JSCleaner.html',\n",
       " 'https://www.tistory.com/?JSCleaner.html',\n",
       " 'https://www.timeanddate.com/?JSCleaner.html',\n",
       " 'https://www.sougou.com/?JSCleaner.html',\n",
       " 'https://www.soso.com/?JSCleaner.html',\n",
       " 'https://www.smzdm.com/?JSCleaner.html',\n",
       " 'https://www.sindonews.com/?JSCleaner.html',\n",
       " 'https://www.shutterstock.com/?JSCleaner.html',\n",
       " 'https://www.rt.com/?JSCleaner.html',\n",
       " 'https://www.rollingstone.com/?JSCleaner.html',\n",
       " 'https://www.researchgate.net/?JSCleaner.html',\n",
       " 'https://www.princeton.edu/?JSCleaner.html',\n",
       " 'https://www.phpbb.com/?JSCleaner.html',\n",
       " 'https://www.okta.com/?JSCleaner.html',\n",
       " 'https://www.office.com/?JSCleaner.html',\n",
       " 'https://www.netflix.com/ae-en/?JSCleaner.html',\n",
       " 'https://www.naver.com/?JSCleaner.html',\n",
       " 'https://www.salesforce.com/eu/?JSCleaner.html',\n",
       " 'https://www.naver.com/?JSCleaner.html',\n",
       " 'https://www.mediafire.com/?JSCleaner.html',\n",
       " 'https://www.ltn.com.tw/?JSCleaner.html',\n",
       " 'https://www.kernel.org/?JSCleaner.html',\n",
       " 'https://www.jhu.edu/?JSCleaner.html',\n",
       " 'https://www.java.com/en/?JSCleaner.html',\n",
       " 'https://www.instructure.com/?JSCleaner.html',\n",
       " 'https://www.indiatimes.com/?JSCleaner.html',\n",
       " 'https://www.indeed.ae/?JSCleaner.html',\n",
       " 'https://www.iana.org/?JSCleaner.html',\n",
       " 'https://www.homedepot.com/?JSCleaner.html',\n",
       " 'https://www.hao123.com/?JSCleaner.html',\n",
       " 'https://www.google.com/?JSCleaner.html',\n",
       " 'https://www.gmw.cn/?JSCleaner.html',\n",
       " 'https://www.gamepedia.com/?JSCleaner.html',\n",
       " 'https://www.exoclick.com/?JSCleaner.html',\n",
       " 'https://www.etsy.com/?JSCleaner.html',\n",
       " 'https://www.discovery.com/?JSCleaner.html',\n",
       " 'https://www.deviantart.com/?JSCleaner.html',\n",
       " 'https://www.cricbuzz.com/?JSCleaner.html',\n",
       " 'https://www.cnblogs.com/?JSCleaner.html',\n",
       " 'https://www.canva.com/?JSCleaner.html',\n",
       " 'https://www.boston.com/?JSCleaner.html',\n",
       " 'https://www.booking.com/?JSCleaner.html',\n",
       " 'https://www.bilibili.com/?JSCleaner.html',\n",
       " 'https://www.apple.com/?JSCleaner.html',\n",
       " 'https://www.alipay.com/?JSCleaner.html',\n",
       " 'https://www.alexa.com/?JSCleaner.html',\n",
       " 'https://www.academia.edu/?JSCleaner.html',\n",
       " 'https://wetransfer.com/?JSCleaner.html',\n",
       " 'https://vk.com/?JSCleaner.html',\n",
       " 'https://vimeo.com/?JSCleaner.html',\n",
       " 'https://trello.com/?JSCleaner.html',\n",
       " 'https://telegram.org/?JSCleaner.html',\n",
       " 'https://store.steampowered.com/?JSCleaner.html',\n",
       " 'https://steamcommunity.com/?JSCleaner.html',\n",
       " 'https://stackoverflow.com/?JSCleaner.html',\n",
       " 'https://stackexchange.com/?JSCleaner.html',\n",
       " 'https://prezi.com/?JSCleaner.html',\n",
       " 'https://pixabay.com/?JSCleaner.html',\n",
       " 'https://na.op.gg/?JSCleaner.html',\n",
       " 'https://me.pcmag.com/?JSCleaner.html',\n",
       " 'https://mail.ru/?JSCleaner.html',\n",
       " 'https://kakaku.com/?JSCleaner.html',\n",
       " 'https://github.com/?JSCleaner.html',\n",
       " 'https://fc2.com/?JSCleaner.html',\n",
       " 'https://duckduckgo.com/?JSCleaner.html',\n",
       " 'https://archive.org/?JSCleaner.html',\n",
       " 'https://ae.godaddy.com/?JSCleaner.html',\n",
       " 'https://adf.ly/?JSCleaner.html',\n",
       " 'https://uk.com/?JSCleaner.html',\n",
       " 'https://utk.edu/?JSCleaner.html',\n",
       " 'https://www.colorado.edu/?JSCleaner.html',\n",
       " 'https://www.mdpi.com/?JSCleaner.html',\n",
       " 'https://www.nist.gov/?JSCleaner.html',\n",
       " 'https://www.nokia.com/?JSCleaner.html',\n",
       " 'https://www.osha.gov/?JSCleaner.html',\n",
       " 'https://www.ucsc.edu/?JSCleaner.html',\n",
       " 'https://www.utexas.edu/?JSCleaner.html',\n",
       " 'https://www.worldbank.org/?JSCleaner.html',\n",
       " 'https://www.sueddeutsche.de/?JSCleaner.html',\n",
       " 'https://unimelb.edu.au/?JSCleaner.html',\n",
       " 'https://www.raspberrypi.org/?JSCleaner.html',\n",
       " 'https://buffer.com/?JSCleaner.html',\n",
       " 'https://missouri.edu/?JSCleaner.html',\n",
       " 'https://www.elmundo.es/?JSCleaner.html',\n",
       " 'https://www.hbo.com/?JSCleaner.html',\n",
       " 'https://www.nap.edu/?JSCleaner.html']"
      ]
     },
     "execution_count": 4,
     "metadata": {},
     "output_type": "execute_result"
    }
   ],
   "source": [
    "jscleaner_urls_list\n"
   ]
  },
  {
   "cell_type": "markdown",
   "metadata": {},
   "source": [
    "#### The download process"
   ]
  },
  {
   "cell_type": "markdown",
   "metadata": {},
   "source": [
    "Before you start, divide your workspace (display) into two parts.\n",
    "1. This notebook (spanning e.g. 30% of the width of the screen)\n",
    "2. Another Chrome Tab which will be used to load the web pages and dowenload them.\n",
    "\n",
    "Make sure you have installed the `Save All Resources` Chrome Extension. When this extension is installed, open the `DevTools` in the Chrome window which will be used to download the pages. Then open the `ResourceSaver` extension and make sure the `Save All Resources` is (partially) visible.\n",
    "\n",
    "You are now ready to download the pages!"
   ]
  },
  {
   "cell_type": "markdown",
   "metadata": {},
   "source": [
    "##### 1. Setup coordinates"
   ]
  },
  {
   "cell_type": "code",
   "execution_count": 11,
   "metadata": {},
   "outputs": [],
   "source": [
    "# Select this box, move your cursor to somewhere in the Chrome window used for downloading (a location without controls),\n",
    "# and run this cell using the keyboard shortcut.\n",
    "chrome_X, chrome_Y = pyautogui.position()"
   ]
  },
  {
   "cell_type": "code",
   "execution_count": 12,
   "metadata": {},
   "outputs": [],
   "source": [
    "# Select this box, move your cursor to the page download button of ResourceSaver, and run this cell using the keyboard shortcut.\n",
    "download_button_X, download_button_Y = pyautogui.position()"
   ]
  },
  {
   "cell_type": "code",
   "execution_count": 13,
   "metadata": {},
   "outputs": [],
   "source": [
    "# Select this box, move your cursor to the URL bar, and run this cell using the keyboard shortcut.\n",
    "url_bar_X, url_bar_Y = pyautogui.position()"
   ]
  },
  {
   "cell_type": "code",
   "execution_count": 14,
   "metadata": {},
   "outputs": [],
   "source": [
    "# Select this box, move your cursor to the 'Beautify JS, HTML, CSS code before download', and run this cell using the keyboard shortcut.\n",
    "# Make sure the tickbox is not selected!\n",
    "beautify_X, beautifyr_Y = pyautogui.position()"
   ]
  },
  {
   "cell_type": "markdown",
   "metadata": {},
   "source": [
    "##### 2. Code to dowload a complete page"
   ]
  },
  {
   "cell_type": "code",
   "execution_count": 15,
   "metadata": {},
   "outputs": [],
   "source": [
    "def download_single_page(url):\n",
    "    print(f\"Currently downloading {url}...\")\n",
    "    # Move the cursor to the URL bar\n",
    "    pyautogui.moveTo(url_bar_X, url_bar_Y)\n",
    "    pyautogui.click()\n",
    "\n",
    "    # Write the URL to Chrome\n",
    "    pyautogui.write(url, interval=0.1)\n",
    "    \n",
    "    # Load the web page\n",
    "    pyautogui.press('enter')\n",
    "    \n",
    "    # Wait for 10 seconds\n",
    "    sleep(60)\n",
    "    \n",
    "    # Move the cursor to the download button and click download\n",
    "    pyautogui.moveTo(download_button_X, download_button_Y)\n",
    "    pyautogui.click()\n",
    "#     os.system('say \"Lets Download\"') # MacOS\n",
    "    \n",
    "    # Wait for 10 seconds\n",
    "    sleep(60)"
   ]
  },
  {
   "cell_type": "code",
   "execution_count": 10,
   "metadata": {},
   "outputs": [],
   "source": [
    "# Set Chrome active\n",
    "pyautogui.moveTo(chrome_X, chrome_Y)\n",
    "pyautogui.click()\n",
    "\n",
    "# Turn on beautification\n",
    "pyautogui.moveTo(beautify_X, beautifyr_Y)\n",
    "pyautogui.click()"
   ]
  },
  {
   "cell_type": "code",
   "execution_count": 19,
   "metadata": {},
   "outputs": [
    {
     "name": "stderr",
     "output_type": "stream",
     "text": [
      "  0%|          | 0/93 [00:00<?, ?it/s]"
     ]
    },
    {
     "name": "stdout",
     "output_type": "stream",
     "text": [
      "Currently downloading https://www.thetimes.co.uk/...\n"
     ]
    },
    {
     "name": "stderr",
     "output_type": "stream",
     "text": [
      "  1%|          | 1/93 [02:04<3:10:19, 124.13s/it]"
     ]
    },
    {
     "name": "stdout",
     "output_type": "stream",
     "text": [
      "Currently downloading https://www.nih.gov/...\n"
     ]
    },
    {
     "name": "stderr",
     "output_type": "stream",
     "text": [
      "  2%|▏         | 2/93 [04:07<3:07:52, 123.87s/it]"
     ]
    },
    {
     "name": "stdout",
     "output_type": "stream",
     "text": [
      "Currently downloading https://www.zillow.com/...\n"
     ]
    },
    {
     "name": "stderr",
     "output_type": "stream",
     "text": [
      "  3%|▎         | 3/93 [06:11<3:05:42, 123.80s/it]"
     ]
    },
    {
     "name": "stdout",
     "output_type": "stream",
     "text": [
      "Currently downloading https://www.yelp.com/...\n"
     ]
    },
    {
     "name": "stderr",
     "output_type": "stream",
     "text": [
      "  4%|▍         | 4/93 [08:14<3:03:29, 123.70s/it]"
     ]
    },
    {
     "name": "stdout",
     "output_type": "stream",
     "text": [
      "Currently downloading https://www.wufoo.com/...\n"
     ]
    },
    {
     "name": "stderr",
     "output_type": "stream",
     "text": [
      "  5%|▌         | 5/93 [10:18<3:01:23, 123.67s/it]"
     ]
    },
    {
     "name": "stdout",
     "output_type": "stream",
     "text": [
      "Currently downloading https://www.whatsapp.com/...\n"
     ]
    },
    {
     "name": "stderr",
     "output_type": "stream",
     "text": [
      "  6%|▋         | 6/93 [12:22<2:59:27, 123.77s/it]"
     ]
    },
    {
     "name": "stdout",
     "output_type": "stream",
     "text": [
      "Currently downloading https://www.vmware.com/...\n"
     ]
    },
    {
     "name": "stderr",
     "output_type": "stream",
     "text": [
      "  8%|▊         | 7/93 [14:26<2:57:37, 123.93s/it]"
     ]
    },
    {
     "name": "stdout",
     "output_type": "stream",
     "text": [
      "Currently downloading https://www.typeform.com/...\n"
     ]
    },
    {
     "name": "stderr",
     "output_type": "stream",
     "text": [
      "  9%|▊         | 8/93 [16:30<2:55:36, 123.95s/it]"
     ]
    },
    {
     "name": "stdout",
     "output_type": "stream",
     "text": [
      "Currently downloading https://www.tistory.com/...\n"
     ]
    },
    {
     "name": "stderr",
     "output_type": "stream",
     "text": [
      " 10%|▉         | 9/93 [18:34<2:53:31, 123.94s/it]"
     ]
    },
    {
     "name": "stdout",
     "output_type": "stream",
     "text": [
      "Currently downloading https://www.timeanddate.com/...\n"
     ]
    },
    {
     "name": "stderr",
     "output_type": "stream",
     "text": [
      " 11%|█         | 10/93 [20:38<2:51:38, 124.08s/it]"
     ]
    },
    {
     "name": "stdout",
     "output_type": "stream",
     "text": [
      "Currently downloading https://www.sougou.com/...\n"
     ]
    },
    {
     "name": "stderr",
     "output_type": "stream",
     "text": [
      " 12%|█▏        | 11/93 [22:42<2:49:27, 123.99s/it]"
     ]
    },
    {
     "name": "stdout",
     "output_type": "stream",
     "text": [
      "Currently downloading https://www.soso.com/...\n"
     ]
    },
    {
     "name": "stderr",
     "output_type": "stream",
     "text": [
      " 13%|█▎        | 12/93 [24:46<2:47:11, 123.85s/it]"
     ]
    },
    {
     "name": "stdout",
     "output_type": "stream",
     "text": [
      "Currently downloading https://www.smzdm.com/...\n"
     ]
    },
    {
     "name": "stderr",
     "output_type": "stream",
     "text": [
      " 14%|█▍        | 13/93 [26:49<2:45:02, 123.78s/it]"
     ]
    },
    {
     "name": "stdout",
     "output_type": "stream",
     "text": [
      "Currently downloading https://www.sindonews.com/...\n"
     ]
    },
    {
     "name": "stderr",
     "output_type": "stream",
     "text": [
      " 15%|█▌        | 14/93 [28:53<2:43:07, 123.89s/it]"
     ]
    },
    {
     "name": "stdout",
     "output_type": "stream",
     "text": [
      "Currently downloading https://www.shutterstock.com/...\n"
     ]
    },
    {
     "name": "stderr",
     "output_type": "stream",
     "text": [
      " 16%|█▌        | 15/93 [30:58<2:41:17, 124.07s/it]"
     ]
    },
    {
     "name": "stdout",
     "output_type": "stream",
     "text": [
      "Currently downloading https://www.rt.com/...\n"
     ]
    },
    {
     "name": "stderr",
     "output_type": "stream",
     "text": [
      " 17%|█▋        | 16/93 [33:01<2:38:55, 123.83s/it]"
     ]
    },
    {
     "name": "stdout",
     "output_type": "stream",
     "text": [
      "Currently downloading https://www.rollingstone.com/...\n"
     ]
    },
    {
     "name": "stderr",
     "output_type": "stream",
     "text": [
      " 18%|█▊        | 17/93 [35:06<2:37:06, 124.04s/it]"
     ]
    },
    {
     "name": "stdout",
     "output_type": "stream",
     "text": [
      "Currently downloading https://www.researchgate.net/...\n"
     ]
    },
    {
     "name": "stderr",
     "output_type": "stream",
     "text": [
      " 19%|█▉        | 18/93 [37:10<2:35:14, 124.19s/it]"
     ]
    },
    {
     "name": "stdout",
     "output_type": "stream",
     "text": [
      "Currently downloading https://www.princeton.edu/...\n"
     ]
    },
    {
     "name": "stderr",
     "output_type": "stream",
     "text": [
      " 20%|██        | 19/93 [39:14<2:33:10, 124.19s/it]"
     ]
    },
    {
     "name": "stdout",
     "output_type": "stream",
     "text": [
      "Currently downloading https://www.phpbb.com/...\n"
     ]
    },
    {
     "name": "stderr",
     "output_type": "stream",
     "text": [
      " 22%|██▏       | 20/93 [41:18<2:30:53, 124.02s/it]"
     ]
    },
    {
     "name": "stdout",
     "output_type": "stream",
     "text": [
      "Currently downloading https://www.okta.com/...\n"
     ]
    },
    {
     "name": "stderr",
     "output_type": "stream",
     "text": [
      " 23%|██▎       | 21/93 [43:21<2:28:37, 123.86s/it]"
     ]
    },
    {
     "name": "stdout",
     "output_type": "stream",
     "text": [
      "Currently downloading https://www.office.com/...\n"
     ]
    },
    {
     "name": "stderr",
     "output_type": "stream",
     "text": [
      " 24%|██▎       | 22/93 [45:25<2:26:31, 123.83s/it]"
     ]
    },
    {
     "name": "stdout",
     "output_type": "stream",
     "text": [
      "Currently downloading https://www.netflix.com/ae-en/...\n"
     ]
    },
    {
     "name": "stderr",
     "output_type": "stream",
     "text": [
      " 25%|██▍       | 23/93 [47:30<2:24:45, 124.08s/it]"
     ]
    },
    {
     "name": "stdout",
     "output_type": "stream",
     "text": [
      "Currently downloading https://www.naver.com/...\n"
     ]
    },
    {
     "name": "stderr",
     "output_type": "stream",
     "text": [
      " 26%|██▌       | 24/93 [49:33<2:22:31, 123.94s/it]"
     ]
    },
    {
     "name": "stdout",
     "output_type": "stream",
     "text": [
      "Currently downloading https://www.salesforce.com/eu/...\n"
     ]
    },
    {
     "name": "stderr",
     "output_type": "stream",
     "text": [
      " 27%|██▋       | 25/93 [51:38<2:20:42, 124.15s/it]"
     ]
    },
    {
     "name": "stdout",
     "output_type": "stream",
     "text": [
      "Currently downloading https://www.naver.com/...\n"
     ]
    },
    {
     "name": "stderr",
     "output_type": "stream",
     "text": [
      " 28%|██▊       | 26/93 [53:42<2:18:26, 123.97s/it]"
     ]
    },
    {
     "name": "stdout",
     "output_type": "stream",
     "text": [
      "Currently downloading https://www.mediafire.com/...\n"
     ]
    },
    {
     "name": "stderr",
     "output_type": "stream",
     "text": [
      " 29%|██▉       | 27/93 [55:46<2:16:23, 123.99s/it]"
     ]
    },
    {
     "name": "stdout",
     "output_type": "stream",
     "text": [
      "Currently downloading https://www.ltn.com.tw/...\n"
     ]
    },
    {
     "name": "stderr",
     "output_type": "stream",
     "text": [
      " 30%|███       | 28/93 [57:49<2:14:14, 123.91s/it]"
     ]
    },
    {
     "name": "stdout",
     "output_type": "stream",
     "text": [
      "Currently downloading https://www.kernel.org/...\n"
     ]
    },
    {
     "name": "stderr",
     "output_type": "stream",
     "text": [
      " 31%|███       | 29/93 [59:53<2:12:06, 123.85s/it]"
     ]
    },
    {
     "name": "stdout",
     "output_type": "stream",
     "text": [
      "Currently downloading https://www.jhu.edu/...\n"
     ]
    },
    {
     "name": "stderr",
     "output_type": "stream",
     "text": [
      " 32%|███▏      | 30/93 [1:01:57<2:09:53, 123.71s/it]"
     ]
    },
    {
     "name": "stdout",
     "output_type": "stream",
     "text": [
      "Currently downloading https://www.java.com/en/...\n"
     ]
    },
    {
     "name": "stderr",
     "output_type": "stream",
     "text": [
      " 33%|███▎      | 31/93 [1:04:00<2:07:54, 123.78s/it]"
     ]
    },
    {
     "name": "stdout",
     "output_type": "stream",
     "text": [
      "Currently downloading https://www.instructure.com/...\n"
     ]
    },
    {
     "name": "stderr",
     "output_type": "stream",
     "text": [
      " 34%|███▍      | 32/93 [1:06:05<2:06:02, 123.98s/it]"
     ]
    },
    {
     "name": "stdout",
     "output_type": "stream",
     "text": [
      "Currently downloading https://www.indiatimes.com/...\n"
     ]
    },
    {
     "name": "stderr",
     "output_type": "stream",
     "text": [
      " 35%|███▌      | 33/93 [1:08:09<2:04:03, 124.06s/it]"
     ]
    },
    {
     "name": "stdout",
     "output_type": "stream",
     "text": [
      "Currently downloading https://www.indeed.ae/...\n"
     ]
    },
    {
     "name": "stderr",
     "output_type": "stream",
     "text": [
      " 37%|███▋      | 34/93 [1:10:13<2:01:50, 123.91s/it]"
     ]
    },
    {
     "name": "stdout",
     "output_type": "stream",
     "text": [
      "Currently downloading https://www.iana.org/...\n"
     ]
    },
    {
     "name": "stderr",
     "output_type": "stream",
     "text": [
      " 38%|███▊      | 35/93 [1:12:16<1:59:39, 123.79s/it]"
     ]
    },
    {
     "name": "stdout",
     "output_type": "stream",
     "text": [
      "Currently downloading https://www.homedepot.com/...\n"
     ]
    },
    {
     "name": "stderr",
     "output_type": "stream",
     "text": [
      " 39%|███▊      | 36/93 [1:14:20<1:57:42, 123.90s/it]"
     ]
    },
    {
     "name": "stdout",
     "output_type": "stream",
     "text": [
      "Currently downloading https://www.hao123.com/...\n"
     ]
    },
    {
     "name": "stderr",
     "output_type": "stream",
     "text": [
      " 40%|███▉      | 37/93 [1:16:24<1:55:35, 123.85s/it]"
     ]
    },
    {
     "name": "stdout",
     "output_type": "stream",
     "text": [
      "Currently downloading https://www.google.com/...\n"
     ]
    },
    {
     "name": "stderr",
     "output_type": "stream",
     "text": [
      " 41%|████      | 38/93 [1:18:28<1:53:29, 123.81s/it]"
     ]
    },
    {
     "name": "stdout",
     "output_type": "stream",
     "text": [
      "Currently downloading https://www.gmw.cn/...\n"
     ]
    },
    {
     "name": "stderr",
     "output_type": "stream",
     "text": [
      " 42%|████▏     | 39/93 [1:20:31<1:51:16, 123.64s/it]"
     ]
    },
    {
     "name": "stdout",
     "output_type": "stream",
     "text": [
      "Currently downloading https://www.gamepedia.com/...\n"
     ]
    },
    {
     "name": "stderr",
     "output_type": "stream",
     "text": [
      " 43%|████▎     | 40/93 [1:22:35<1:49:19, 123.76s/it]"
     ]
    },
    {
     "name": "stdout",
     "output_type": "stream",
     "text": [
      "Currently downloading https://www.exoclick.com/...\n"
     ]
    },
    {
     "name": "stderr",
     "output_type": "stream",
     "text": [
      " 44%|████▍     | 41/93 [1:24:39<1:47:18, 123.82s/it]"
     ]
    },
    {
     "name": "stdout",
     "output_type": "stream",
     "text": [
      "Currently downloading https://www.etsy.com/...\n"
     ]
    },
    {
     "name": "stderr",
     "output_type": "stream",
     "text": [
      " 45%|████▌     | 42/93 [1:26:43<1:45:10, 123.73s/it]"
     ]
    },
    {
     "name": "stdout",
     "output_type": "stream",
     "text": [
      "Currently downloading https://www.discovery.com/...\n"
     ]
    },
    {
     "name": "stderr",
     "output_type": "stream",
     "text": [
      " 46%|████▌     | 43/93 [1:28:47<1:43:12, 123.85s/it]"
     ]
    },
    {
     "name": "stdout",
     "output_type": "stream",
     "text": [
      "Currently downloading https://www.deviantart.com/...\n"
     ]
    },
    {
     "name": "stderr",
     "output_type": "stream",
     "text": [
      " 47%|████▋     | 44/93 [1:30:51<1:41:15, 123.99s/it]"
     ]
    },
    {
     "name": "stdout",
     "output_type": "stream",
     "text": [
      "Currently downloading https://www.cricbuzz.com/...\n"
     ]
    },
    {
     "name": "stderr",
     "output_type": "stream",
     "text": [
      " 48%|████▊     | 45/93 [1:32:56<1:39:23, 124.24s/it]"
     ]
    },
    {
     "name": "stdout",
     "output_type": "stream",
     "text": [
      "Currently downloading https://www.cnblogs.com/...\n"
     ]
    },
    {
     "name": "stderr",
     "output_type": "stream",
     "text": [
      " 49%|████▉     | 46/93 [1:35:02<1:37:41, 124.70s/it]"
     ]
    },
    {
     "name": "stdout",
     "output_type": "stream",
     "text": [
      "Currently downloading https://www.canva.com/...\n"
     ]
    },
    {
     "name": "stderr",
     "output_type": "stream",
     "text": [
      " 51%|█████     | 47/93 [1:37:05<1:35:21, 124.38s/it]"
     ]
    },
    {
     "name": "stdout",
     "output_type": "stream",
     "text": [
      "Currently downloading https://www.boston.com/...\n"
     ]
    },
    {
     "name": "stderr",
     "output_type": "stream",
     "text": [
      " 52%|█████▏    | 48/93 [1:39:09<1:33:07, 124.16s/it]"
     ]
    },
    {
     "name": "stdout",
     "output_type": "stream",
     "text": [
      "Currently downloading https://www.booking.com/...\n"
     ]
    },
    {
     "name": "stderr",
     "output_type": "stream",
     "text": [
      " 53%|█████▎    | 49/93 [1:41:13<1:30:59, 124.09s/it]"
     ]
    },
    {
     "name": "stdout",
     "output_type": "stream",
     "text": [
      "Currently downloading https://www.bilibili.com/...\n"
     ]
    },
    {
     "name": "stderr",
     "output_type": "stream",
     "text": [
      " 54%|█████▍    | 50/93 [1:43:17<1:28:55, 124.07s/it]"
     ]
    },
    {
     "name": "stdout",
     "output_type": "stream",
     "text": [
      "Currently downloading https://www.apple.com/...\n"
     ]
    },
    {
     "name": "stderr",
     "output_type": "stream",
     "text": [
      " 55%|█████▍    | 51/93 [1:45:20<1:26:45, 123.93s/it]"
     ]
    },
    {
     "name": "stdout",
     "output_type": "stream",
     "text": [
      "Currently downloading https://www.alipay.com/...\n"
     ]
    },
    {
     "name": "stderr",
     "output_type": "stream",
     "text": [
      " 56%|█████▌    | 52/93 [1:47:24<1:24:38, 123.88s/it]"
     ]
    },
    {
     "name": "stdout",
     "output_type": "stream",
     "text": [
      "Currently downloading https://www.alexa.com/...\n"
     ]
    },
    {
     "name": "stderr",
     "output_type": "stream",
     "text": [
      " 57%|█████▋    | 53/93 [1:49:28<1:22:31, 123.80s/it]"
     ]
    },
    {
     "name": "stdout",
     "output_type": "stream",
     "text": [
      "Currently downloading https://www.academia.edu/...\n"
     ]
    },
    {
     "name": "stderr",
     "output_type": "stream",
     "text": [
      " 58%|█████▊    | 54/93 [1:51:32<1:20:30, 123.86s/it]"
     ]
    },
    {
     "name": "stdout",
     "output_type": "stream",
     "text": [
      "Currently downloading https://wetransfer.com/...\n"
     ]
    },
    {
     "name": "stderr",
     "output_type": "stream",
     "text": [
      " 59%|█████▉    | 55/93 [1:53:36<1:18:25, 123.84s/it]"
     ]
    },
    {
     "name": "stdout",
     "output_type": "stream",
     "text": [
      "Currently downloading https://vk.com/...\n"
     ]
    },
    {
     "name": "stderr",
     "output_type": "stream",
     "text": [
      " 60%|██████    | 56/93 [1:55:38<1:16:09, 123.51s/it]"
     ]
    },
    {
     "name": "stdout",
     "output_type": "stream",
     "text": [
      "Currently downloading https://vimeo.com/...\n"
     ]
    },
    {
     "name": "stderr",
     "output_type": "stream",
     "text": [
      " 61%|██████▏   | 57/93 [1:57:41<1:14:01, 123.39s/it]"
     ]
    },
    {
     "name": "stdout",
     "output_type": "stream",
     "text": [
      "Currently downloading https://trello.com/...\n"
     ]
    },
    {
     "name": "stderr",
     "output_type": "stream",
     "text": [
      " 62%|██████▏   | 58/93 [1:59:45<1:11:57, 123.35s/it]"
     ]
    },
    {
     "name": "stdout",
     "output_type": "stream",
     "text": [
      "Currently downloading https://telegram.org/...\n"
     ]
    },
    {
     "name": "stderr",
     "output_type": "stream",
     "text": [
      " 63%|██████▎   | 59/93 [2:01:48<1:09:55, 123.40s/it]"
     ]
    },
    {
     "name": "stdout",
     "output_type": "stream",
     "text": [
      "Currently downloading https://store.steampowered.com/...\n"
     ]
    },
    {
     "name": "stderr",
     "output_type": "stream",
     "text": [
      " 65%|██████▍   | 60/93 [2:03:53<1:08:06, 123.84s/it]"
     ]
    },
    {
     "name": "stdout",
     "output_type": "stream",
     "text": [
      "Currently downloading https://steamcommunity.com/...\n"
     ]
    },
    {
     "name": "stderr",
     "output_type": "stream",
     "text": [
      " 66%|██████▌   | 61/93 [2:05:57<1:06:07, 123.98s/it]"
     ]
    },
    {
     "name": "stdout",
     "output_type": "stream",
     "text": [
      "Currently downloading https://stackoverflow.com/...\n"
     ]
    },
    {
     "name": "stderr",
     "output_type": "stream",
     "text": [
      " 67%|██████▋   | 62/93 [2:08:02<1:04:04, 124.03s/it]"
     ]
    },
    {
     "name": "stdout",
     "output_type": "stream",
     "text": [
      "Currently downloading https://stackexchange.com/...\n"
     ]
    },
    {
     "name": "stderr",
     "output_type": "stream",
     "text": [
      " 68%|██████▊   | 63/93 [2:10:06<1:02:02, 124.07s/it]"
     ]
    },
    {
     "name": "stdout",
     "output_type": "stream",
     "text": [
      "Currently downloading https://prezi.com/...\n"
     ]
    },
    {
     "name": "stderr",
     "output_type": "stream",
     "text": [
      " 69%|██████▉   | 64/93 [2:12:09<59:49, 123.78s/it]  "
     ]
    },
    {
     "name": "stdout",
     "output_type": "stream",
     "text": [
      "Currently downloading https://pixabay.com/...\n"
     ]
    },
    {
     "name": "stderr",
     "output_type": "stream",
     "text": [
      " 70%|██████▉   | 65/93 [2:14:12<57:42, 123.65s/it]"
     ]
    },
    {
     "name": "stdout",
     "output_type": "stream",
     "text": [
      "Currently downloading https://na.op.gg/...\n"
     ]
    },
    {
     "name": "stderr",
     "output_type": "stream",
     "text": [
      " 71%|███████   | 66/93 [2:16:15<55:33, 123.45s/it]"
     ]
    },
    {
     "name": "stdout",
     "output_type": "stream",
     "text": [
      "Currently downloading https://me.pcmag.com/...\n"
     ]
    },
    {
     "name": "stderr",
     "output_type": "stream",
     "text": [
      " 72%|███████▏  | 67/93 [2:18:19<53:29, 123.45s/it]"
     ]
    },
    {
     "name": "stdout",
     "output_type": "stream",
     "text": [
      "Currently downloading https://mail.ru/...\n"
     ]
    },
    {
     "name": "stderr",
     "output_type": "stream",
     "text": [
      " 73%|███████▎  | 68/93 [2:20:21<51:21, 123.26s/it]"
     ]
    },
    {
     "name": "stdout",
     "output_type": "stream",
     "text": [
      "Currently downloading https://kakaku.com/...\n"
     ]
    },
    {
     "name": "stderr",
     "output_type": "stream",
     "text": [
      " 74%|███████▍  | 69/93 [2:22:25<49:18, 123.26s/it]"
     ]
    },
    {
     "name": "stdout",
     "output_type": "stream",
     "text": [
      "Currently downloading https://github.com/...\n"
     ]
    },
    {
     "name": "stderr",
     "output_type": "stream",
     "text": [
      " 75%|███████▌  | 70/93 [2:24:28<47:14, 123.25s/it]"
     ]
    },
    {
     "name": "stdout",
     "output_type": "stream",
     "text": [
      "Currently downloading https://fc2.com/...\n"
     ]
    },
    {
     "name": "stderr",
     "output_type": "stream",
     "text": [
      " 76%|███████▋  | 71/93 [2:26:31<45:08, 123.14s/it]"
     ]
    },
    {
     "name": "stdout",
     "output_type": "stream",
     "text": [
      "Currently downloading https://duckduckgo.com/...\n"
     ]
    },
    {
     "name": "stderr",
     "output_type": "stream",
     "text": [
      " 77%|███████▋  | 72/93 [2:28:35<43:09, 123.33s/it]"
     ]
    },
    {
     "name": "stdout",
     "output_type": "stream",
     "text": [
      "Currently downloading https://archive.org/...\n"
     ]
    },
    {
     "name": "stderr",
     "output_type": "stream",
     "text": [
      " 78%|███████▊  | 73/93 [2:30:38<41:06, 123.34s/it]"
     ]
    },
    {
     "name": "stdout",
     "output_type": "stream",
     "text": [
      "Currently downloading https://ae.godaddy.com/...\n"
     ]
    },
    {
     "name": "stderr",
     "output_type": "stream",
     "text": [
      " 80%|███████▉  | 74/93 [2:32:42<39:05, 123.46s/it]"
     ]
    },
    {
     "name": "stdout",
     "output_type": "stream",
     "text": [
      "Currently downloading https://adf.ly/...\n"
     ]
    },
    {
     "name": "stderr",
     "output_type": "stream",
     "text": [
      " 81%|████████  | 75/93 [2:34:44<36:58, 123.23s/it]"
     ]
    },
    {
     "name": "stdout",
     "output_type": "stream",
     "text": [
      "Currently downloading https://uk.com/...\n"
     ]
    },
    {
     "name": "stderr",
     "output_type": "stream",
     "text": [
      " 82%|████████▏ | 76/93 [2:36:47<34:52, 123.08s/it]"
     ]
    },
    {
     "name": "stdout",
     "output_type": "stream",
     "text": [
      "Currently downloading https://utk.edu/...\n"
     ]
    },
    {
     "name": "stderr",
     "output_type": "stream",
     "text": [
      " 83%|████████▎ | 77/93 [2:38:50<32:48, 123.01s/it]"
     ]
    },
    {
     "name": "stdout",
     "output_type": "stream",
     "text": [
      "Currently downloading https://www.colorado.edu/...\n"
     ]
    },
    {
     "name": "stderr",
     "output_type": "stream",
     "text": [
      " 84%|████████▍ | 78/93 [2:40:54<30:49, 123.31s/it]"
     ]
    },
    {
     "name": "stdout",
     "output_type": "stream",
     "text": [
      "Currently downloading https://www.mdpi.com/...\n"
     ]
    },
    {
     "name": "stderr",
     "output_type": "stream",
     "text": [
      " 85%|████████▍ | 79/93 [2:42:57<28:47, 123.36s/it]"
     ]
    },
    {
     "name": "stdout",
     "output_type": "stream",
     "text": [
      "Currently downloading https://www.nist.gov/...\n"
     ]
    },
    {
     "name": "stderr",
     "output_type": "stream",
     "text": [
      " 86%|████████▌ | 80/93 [2:45:01<26:44, 123.41s/it]"
     ]
    },
    {
     "name": "stdout",
     "output_type": "stream",
     "text": [
      "Currently downloading https://www.nokia.com/...\n"
     ]
    },
    {
     "name": "stderr",
     "output_type": "stream",
     "text": [
      " 87%|████████▋ | 81/93 [2:47:05<24:41, 123.48s/it]"
     ]
    },
    {
     "name": "stdout",
     "output_type": "stream",
     "text": [
      "Currently downloading https://www.osha.gov/...\n"
     ]
    },
    {
     "name": "stderr",
     "output_type": "stream",
     "text": [
      " 88%|████████▊ | 82/93 [2:49:08<22:38, 123.49s/it]"
     ]
    },
    {
     "name": "stdout",
     "output_type": "stream",
     "text": [
      "Currently downloading https://www.ucsc.edu/...\n"
     ]
    },
    {
     "name": "stderr",
     "output_type": "stream",
     "text": [
      " 89%|████████▉ | 83/93 [2:51:12<20:34, 123.50s/it]"
     ]
    },
    {
     "name": "stdout",
     "output_type": "stream",
     "text": [
      "Currently downloading https://www.utexas.edu/...\n"
     ]
    },
    {
     "name": "stderr",
     "output_type": "stream",
     "text": [
      " 90%|█████████ | 84/93 [2:53:15<18:32, 123.58s/it]"
     ]
    },
    {
     "name": "stdout",
     "output_type": "stream",
     "text": [
      "Currently downloading https://www.worldbank.org/...\n"
     ]
    },
    {
     "name": "stderr",
     "output_type": "stream",
     "text": [
      " 91%|█████████▏| 85/93 [2:55:19<16:29, 123.73s/it]"
     ]
    },
    {
     "name": "stdout",
     "output_type": "stream",
     "text": [
      "Currently downloading https://www.sueddeutsche.de/...\n"
     ]
    },
    {
     "name": "stderr",
     "output_type": "stream",
     "text": [
      " 92%|█████████▏| 86/93 [2:57:24<14:27, 123.94s/it]"
     ]
    },
    {
     "name": "stdout",
     "output_type": "stream",
     "text": [
      "Currently downloading https://unimelb.edu.au/...\n"
     ]
    },
    {
     "name": "stderr",
     "output_type": "stream",
     "text": [
      " 94%|█████████▎| 87/93 [2:59:28<12:23, 123.89s/it]"
     ]
    },
    {
     "name": "stdout",
     "output_type": "stream",
     "text": [
      "Currently downloading https://www.raspberrypi.org/...\n"
     ]
    },
    {
     "name": "stderr",
     "output_type": "stream",
     "text": [
      " 95%|█████████▍| 88/93 [3:01:32<10:20, 124.04s/it]"
     ]
    },
    {
     "name": "stdout",
     "output_type": "stream",
     "text": [
      "Currently downloading https://buffer.com/...\n"
     ]
    },
    {
     "name": "stderr",
     "output_type": "stream",
     "text": [
      " 96%|█████████▌| 89/93 [3:03:35<08:15, 123.81s/it]"
     ]
    },
    {
     "name": "stdout",
     "output_type": "stream",
     "text": [
      "Currently downloading https://missouri.edu/...\n"
     ]
    },
    {
     "name": "stderr",
     "output_type": "stream",
     "text": [
      " 97%|█████████▋| 90/93 [3:05:39<06:11, 123.71s/it]"
     ]
    },
    {
     "name": "stdout",
     "output_type": "stream",
     "text": [
      "Currently downloading https://www.elmundo.es/...\n"
     ]
    },
    {
     "name": "stderr",
     "output_type": "stream",
     "text": [
      " 98%|█████████▊| 91/93 [3:07:43<04:07, 123.73s/it]"
     ]
    },
    {
     "name": "stdout",
     "output_type": "stream",
     "text": [
      "Currently downloading https://www.hbo.com/...\n"
     ]
    },
    {
     "name": "stderr",
     "output_type": "stream",
     "text": [
      " 99%|█████████▉| 92/93 [3:09:46<02:03, 123.63s/it]"
     ]
    },
    {
     "name": "stdout",
     "output_type": "stream",
     "text": [
      "Currently downloading https://www.nap.edu/...\n"
     ]
    },
    {
     "name": "stderr",
     "output_type": "stream",
     "text": [
      "100%|██████████| 93/93 [3:11:49<00:00, 123.54s/it]\n"
     ]
    }
   ],
   "source": [
    "# Set Chrome active\n",
    "pyautogui.moveTo(chrome_X, chrome_Y)\n",
    "pyautogui.click()\n",
    "\n",
    "# NORMAL PAGES\n",
    "# Loop over the URLS and download them\n",
    "for url in tqdm(regular_urls_list):\n",
    "    download_single_page(url)"
   ]
  },
  {
   "cell_type": "code",
   "execution_count": 20,
   "metadata": {},
   "outputs": [
    {
     "data": {
      "text/plain": [
       "''"
      ]
     },
     "execution_count": 20,
     "metadata": {},
     "output_type": "execute_result"
    }
   ],
   "source": [
    "# Move the files to NORMAL_WEB\n",
    "os.popen(\"cd ~/Downloads && mkdir NW3 && mv *.zip NW3\").read()"
   ]
  },
  {
   "cell_type": "code",
   "execution_count": 17,
   "metadata": {},
   "outputs": [
    {
     "name": "stdout",
     "output_type": "stream",
     "text": [
      "Currently downloading https://www.thetimes.co.uk/?JSCleaner.html...\n",
      "Currently downloading https://www.nih.gov/?JSCleaner.html...\n",
      "Currently downloading https://www.zillow.com/?JSCleaner.html...\n",
      "Currently downloading https://www.yelp.com/?JSCleaner.html...\n",
      "Currently downloading https://www.wufoo.com/?JSCleaner.html...\n",
      "Currently downloading https://www.whatsapp.com/?JSCleaner.html...\n",
      "Currently downloading https://www.vmware.com/?JSCleaner.html...\n",
      "Currently downloading https://www.typeform.com/?JSCleaner.html...\n",
      "Currently downloading https://www.tistory.com/?JSCleaner.html...\n",
      "Currently downloading https://www.timeanddate.com/?JSCleaner.html...\n",
      "Currently downloading https://www.sougou.com/?JSCleaner.html...\n",
      "Currently downloading https://www.soso.com/?JSCleaner.html...\n",
      "Currently downloading https://www.smzdm.com/?JSCleaner.html...\n",
      "Currently downloading https://www.sindonews.com/?JSCleaner.html...\n",
      "Currently downloading https://www.shutterstock.com/?JSCleaner.html...\n",
      "Currently downloading https://www.rt.com/?JSCleaner.html...\n",
      "Currently downloading https://www.rollingstone.com/?JSCleaner.html...\n",
      "Currently downloading https://www.researchgate.net/?JSCleaner.html...\n",
      "Currently downloading https://www.princeton.edu/?JSCleaner.html...\n",
      "Currently downloading https://www.phpbb.com/?JSCleaner.html...\n",
      "Currently downloading https://www.okta.com/?JSCleaner.html...\n",
      "Currently downloading https://www.office.com/?JSCleaner.html...\n",
      "Currently downloading https://www.netflix.com/ae-en/?JSCleaner.html...\n",
      "Currently downloading https://www.naver.com/?JSCleaner.html...\n",
      "Currently downloading https://www.salesforce.com/eu/?JSCleaner.html...\n",
      "Currently downloading https://www.naver.com/?JSCleaner.html...\n",
      "Currently downloading https://www.mediafire.com/?JSCleaner.html...\n",
      "Currently downloading https://www.ltn.com.tw/?JSCleaner.html...\n",
      "Currently downloading https://www.kernel.org/?JSCleaner.html...\n",
      "Currently downloading https://www.jhu.edu/?JSCleaner.html...\n",
      "Currently downloading https://www.java.com/en/?JSCleaner.html...\n",
      "Currently downloading https://www.instructure.com/?JSCleaner.html...\n",
      "Currently downloading https://www.indiatimes.com/?JSCleaner.html...\n",
      "Currently downloading https://www.indeed.ae/?JSCleaner.html...\n",
      "Currently downloading https://www.iana.org/?JSCleaner.html...\n",
      "Currently downloading https://www.homedepot.com/?JSCleaner.html...\n",
      "Currently downloading https://www.hao123.com/?JSCleaner.html...\n",
      "Currently downloading https://www.google.com/?JSCleaner.html...\n",
      "Currently downloading https://www.gmw.cn/?JSCleaner.html...\n",
      "Currently downloading https://www.gamepedia.com/?JSCleaner.html...\n",
      "Currently downloading https://www.exoclick.com/?JSCleaner.html...\n",
      "Currently downloading https://www.etsy.com/?JSCleaner.html...\n",
      "Currently downloading https://www.discovery.com/?JSCleaner.html...\n",
      "Currently downloading https://www.deviantart.com/?JSCleaner.html...\n",
      "Currently downloading https://www.cricbuzz.com/?JSCleaner.html...\n",
      "Currently downloading https://www.cnblogs.com/?JSCleaner.html...\n",
      "Currently downloading https://www.canva.com/?JSCleaner.html...\n",
      "Currently downloading https://www.boston.com/?JSCleaner.html...\n",
      "Currently downloading https://www.booking.com/?JSCleaner.html...\n",
      "Currently downloading https://www.bilibili.com/?JSCleaner.html...\n",
      "Currently downloading https://www.apple.com/?JSCleaner.html...\n",
      "Currently downloading https://www.alipay.com/?JSCleaner.html...\n",
      "Currently downloading https://www.alexa.com/?JSCleaner.html...\n",
      "Currently downloading https://www.academia.edu/?JSCleaner.html...\n",
      "Currently downloading https://wetransfer.com/?JSCleaner.html...\n",
      "Currently downloading https://vk.com/?JSCleaner.html...\n",
      "Currently downloading https://vimeo.com/?JSCleaner.html...\n",
      "Currently downloading https://trello.com/?JSCleaner.html...\n",
      "Currently downloading https://telegram.org/?JSCleaner.html...\n",
      "Currently downloading https://store.steampowered.com/?JSCleaner.html...\n",
      "Currently downloading https://steamcommunity.com/?JSCleaner.html...\n",
      "Currently downloading https://stackoverflow.com/?JSCleaner.html...\n",
      "Currently downloading https://stackexchange.com/?JSCleaner.html...\n",
      "Currently downloading https://prezi.com/?JSCleaner.html...\n",
      "Currently downloading https://pixabay.com/?JSCleaner.html...\n",
      "Currently downloading https://na.op.gg/?JSCleaner.html...\n",
      "Currently downloading https://me.pcmag.com/?JSCleaner.html...\n",
      "Currently downloading https://mail.ru/?JSCleaner.html...\n",
      "Currently downloading https://kakaku.com/?JSCleaner.html...\n",
      "Currently downloading https://github.com/?JSCleaner.html...\n",
      "Currently downloading https://fc2.com/?JSCleaner.html...\n",
      "Currently downloading https://duckduckgo.com/?JSCleaner.html...\n",
      "Currently downloading https://archive.org/?JSCleaner.html...\n",
      "Currently downloading https://ae.godaddy.com/?JSCleaner.html...\n",
      "Currently downloading https://adf.ly/?JSCleaner.html...\n",
      "Currently downloading https://uk.com/?JSCleaner.html...\n",
      "Currently downloading https://utk.edu/?JSCleaner.html...\n",
      "Currently downloading https://www.colorado.edu/?JSCleaner.html...\n",
      "Currently downloading https://www.mdpi.com/?JSCleaner.html...\n",
      "Currently downloading https://www.nist.gov/?JSCleaner.html...\n",
      "Currently downloading https://www.nokia.com/?JSCleaner.html...\n",
      "Currently downloading https://www.osha.gov/?JSCleaner.html...\n",
      "Currently downloading https://www.ucsc.edu/?JSCleaner.html...\n",
      "Currently downloading https://www.utexas.edu/?JSCleaner.html...\n",
      "Currently downloading https://www.worldbank.org/?JSCleaner.html...\n",
      "Currently downloading https://www.sueddeutsche.de/?JSCleaner.html...\n",
      "Currently downloading https://unimelb.edu.au/?JSCleaner.html...\n",
      "Currently downloading https://www.raspberrypi.org/?JSCleaner.html...\n",
      "Currently downloading https://buffer.com/?JSCleaner.html...\n",
      "Currently downloading https://missouri.edu/?JSCleaner.html...\n",
      "Currently downloading https://www.elmundo.es/?JSCleaner.html...\n",
      "Currently downloading https://www.hbo.com/?JSCleaner.html...\n",
      "Currently downloading https://www.nap.edu/?JSCleaner.html...\n"
     ]
    }
   ],
   "source": [
    "# JSCleaner PAGES\n",
    "# Set Chrome active\n",
    "pyautogui.click()\n",
    "\n",
    "# Loop over the URLS and download them\n",
    "for url in jscleaner_urls_list:\n",
    "    download_single_page(url)"
   ]
  },
  {
   "cell_type": "code",
   "execution_count": 18,
   "metadata": {},
   "outputs": [
    {
     "data": {
      "text/plain": [
       "''"
      ]
     },
     "execution_count": 18,
     "metadata": {},
     "output_type": "execute_result"
    }
   ],
   "source": [
    "# Move the files to JSCLEANER_WEB\n",
    "os.popen(\"cd ~/Downloads && mkdir JSC3 && mv *.zip JSC3\").read()"
   ]
  },
  {
   "cell_type": "markdown",
   "metadata": {},
   "source": [
    "#### The analysis"
   ]
  },
  {
   "cell_type": "code",
   "execution_count": 21,
   "metadata": {},
   "outputs": [],
   "source": [
    "def perform_loc_analysis(folder_name, url_list, write_file):\n",
    "    \"\"\"\n",
    "        folder_name: Path to folder containing the downloaded ZIP files\n",
    "        url_list: A list of downloaded urls\n",
    "        write_file: Path to file to ehich the results are saved (as backup)\n",
    "    \"\"\"\n",
    "    # Setup DF\n",
    "    df_column_names = ['url', 'total_size', 'JS_files', 'JS_blank', 'JS_comment', 'JS_code',\n",
    "                          'HTML_files', 'HTML_blank', 'HTML_comment', 'HTML_code',\n",
    "                          'CSS_files', 'CSS_blank', 'CSS_comment', 'CSS_code']\n",
    "    result_df = pd.DataFrame(columns=df_column_names)\n",
    "\n",
    "    # Loop over URLS\n",
    "    for url in url_list:\n",
    "        url = url.replace('/?JSCleaner.html', '')\n",
    "        url = url.replace('https://', '').replace('http://', '').replace('/ae-en', '').replace('/eu', '').replace('/en', '').replace('/', '')\n",
    "        print(url)\n",
    "\n",
    "        # Unzip\n",
    "        os.system(f'cd ~/Downloads/{folder_name} && unzip {url}.zip -d {url}')        \n",
    "        \n",
    "        # Analyse using CLOC\n",
    "        res = os.popen(f'cd ~/Downloads/{folder_name} && cloc {url}').read()\n",
    "        \n",
    "        # Get the results\n",
    "        splitted_result = res.split(\"\\n\")\n",
    "        \n",
    "        write_file.write('\\n'.join(splitted_result) + '\\n-------------------\\n')\n",
    "        \n",
    "        JSLine_text = [line for line in splitted_result if (\"JavaScript\" in line)]\n",
    "        JSIndex = -1 if JSLine_text == [] else splitted_result.index(JSLine_text[0])\n",
    "        \n",
    "        HTMLLine_text = [line for line in splitted_result if (\"HTML\" in line)]\n",
    "        HTMLIndex = -1 if HTMLLine_text == [] else splitted_result.index(HTMLLine_text[0])\n",
    "        \n",
    "        CSSLine_text = [line for line in splitted_result if (\"CSS\" in line)]\n",
    "        CSSIndex = -1 if CSSLine_text == [] else splitted_result.index(CSSLine_text[0])\n",
    "        \n",
    "        if (JSIndex >= 0): \n",
    "            JSLine = [line for line in splitted_result if (\"JavaScript\" in line)][0].split(' ')\n",
    "            JSLine = [word for word in JSLine if word != '']\n",
    "        else:\n",
    "            JSLine = ['', 'UNK', 'UNK', 'UNK', 'UNK']\n",
    "        \n",
    "        if (HTMLIndex >= 0):\n",
    "            HTMLLine = [line for line in splitted_result if (\"HTML\" in line)][0].split(' ')\n",
    "            HTMLLine = [word for word in HTMLLine if word != '']\n",
    "        else:\n",
    "            HTMLLine = ['', 'UNK', 'UNK', 'UNK', 'UNK']\n",
    "            \n",
    "        if (CSSIndex >= 0):\n",
    "            CSSLine = [line for line in splitted_result if (\"CSS\" in line)][0].split(' ')\n",
    "            CSSLine = [word for word in CSSLine if word != '']\n",
    "        else:\n",
    "            CSSLine = ['', 'UNK', 'UNK', 'UNK', 'UNK']\n",
    "    \n",
    "        # Get the size of the folder\n",
    "        size = os.popen(f'cd ~/Downloads/{folder_name} && du -hcs {url}').read().split('\\t')[0].lstrip()\n",
    "        \n",
    "        # Create a single data row\n",
    "        values = {\n",
    "            'url': url,\n",
    "            'total_size': size,\n",
    "    \n",
    "            'JS_files': JSLine[1],\n",
    "            'JS_blank': JSLine[2],\n",
    "            'JS_comment': JSLine[3],\n",
    "            'JS_code': JSLine[4],\n",
    "\n",
    "            'HTML_files': HTMLLine[1],\n",
    "            'HTML_blank': HTMLLine[2],\n",
    "            'HTML_comment': HTMLLine[3],\n",
    "            'HTML_code': HTMLLine[4],\n",
    "\n",
    "            'CSS_files': CSSLine[1],\n",
    "            'CSS_blank': CSSLine[2],\n",
    "            'CSS_comment': CSSLine[3],\n",
    "            'CSS_code': CSSLine[4],\n",
    "        }\n",
    "        result_df = result_df.append(values, ignore_index = True)\n",
    "    \n",
    "    return result_df"
   ]
  },
  {
   "cell_type": "code",
   "execution_count": 23,
   "metadata": {},
   "outputs": [
    {
     "name": "stdout",
     "output_type": "stream",
     "text": [
      "www.thetimes.co.uk\n",
      "www.nih.gov\n",
      "www.zillow.com\n",
      "www.yelp.com\n",
      "www.wufoo.com\n",
      "www.whatsapp.com\n",
      "www.vmware.com\n",
      "www.typeform.com\n",
      "www.tistory.com\n",
      "www.timeanddate.com\n",
      "www.sougou.com\n",
      "www.soso.com\n",
      "www.smzdm.com\n",
      "www.sindonews.com\n",
      "www.shutterstock.com\n",
      "www.rt.com\n",
      "www.rollingstone.com\n",
      "www.researchgate.net\n",
      "www.princeton.edu\n",
      "www.phpbb.com\n",
      "www.okta.com\n",
      "www.office.com\n",
      "www.netflix.com\n",
      "www.naver.com\n",
      "www.salesforce.com\n",
      "www.naver.com\n",
      "www.mediafire.com\n",
      "www.ltn.com.tw\n",
      "www.kernel.org\n",
      "www.jhu.edu\n",
      "www.java.com\n",
      "www.instructure.com\n",
      "www.indiatimes.com\n",
      "www.indeed.ae\n",
      "www.iana.org\n",
      "www.homedepot.com\n",
      "www.hao123.com\n",
      "www.google.com\n",
      "www.gmw.cn\n",
      "www.gamepedia.com\n",
      "www.exoclick.com\n",
      "www.etsy.com\n",
      "www.discovery.com\n",
      "www.deviantart.com\n",
      "www.cricbuzz.com\n",
      "www.cnblogs.com\n",
      "www.canva.com\n",
      "www.boston.com\n",
      "www.booking.com\n",
      "www.bilibili.com\n",
      "www.apple.com\n",
      "www.alipay.com\n",
      "www.alexa.com\n",
      "www.academia.edu\n",
      "wetransfer.com\n",
      "vk.com\n",
      "vimeo.com\n",
      "trello.com\n",
      "telegram.org\n",
      "store.steampowered.com\n",
      "steamcommunity.com\n",
      "stackoverflow.com\n",
      "stackexchange.com\n",
      "prezi.com\n",
      "pixabay.com\n",
      "na.op.gg\n",
      "me.pcmag.com\n",
      "mail.ru\n",
      "kakaku.com\n",
      "github.com\n",
      "fc2.com\n",
      "duckduckgo.com\n",
      "archive.org\n",
      "ae.godaddy.com\n",
      "adf.ly\n",
      "uk.com\n",
      "utk.edu\n",
      "www.colorado.edu\n",
      "www.mdpi.com\n",
      "www.nist.gov\n",
      "www.nokia.com\n",
      "www.osha.gov\n",
      "www.ucsc.edu\n",
      "www.utexas.edu\n",
      "www.worldbank.org\n",
      "www.sueddeutsche.de\n",
      "unimelb.edu.au\n",
      "www.raspberrypi.org\n",
      "buffer.com\n",
      "missouri.edu\n",
      "www.elmundo.es\n",
      "www.hbo.com\n",
      "www.nap.edu\n"
     ]
    }
   ],
   "source": [
    "f2 = open(\"NW3.txt\", \"a\")\n",
    "normal_page_data = perform_loc_analysis('NW3', regular_urls_list, f2)\n",
    "f2.close()"
   ]
  },
  {
   "cell_type": "code",
   "execution_count": 24,
   "metadata": {},
   "outputs": [
    {
     "name": "stdout",
     "output_type": "stream",
     "text": [
      "www.thetimes.co.uk\n",
      "www.nih.gov\n",
      "www.zillow.com\n",
      "www.yelp.com\n",
      "www.wufoo.com\n",
      "www.whatsapp.com\n",
      "www.vmware.com\n",
      "www.typeform.com\n",
      "www.tistory.com\n",
      "www.timeanddate.com\n",
      "www.sougou.com\n",
      "www.soso.com\n",
      "www.smzdm.com\n",
      "www.sindonews.com\n",
      "www.shutterstock.com\n",
      "www.rt.com\n",
      "www.rollingstone.com\n",
      "www.researchgate.net\n",
      "www.princeton.edu\n",
      "www.phpbb.com\n",
      "www.okta.com\n",
      "www.office.com\n",
      "www.netflix.com\n",
      "www.naver.com\n",
      "www.salesforce.com\n",
      "www.naver.com\n",
      "www.mediafire.com\n",
      "www.ltn.com.tw\n",
      "www.kernel.org\n",
      "www.jhu.edu\n",
      "www.java.com\n",
      "www.instructure.com\n",
      "www.indiatimes.com\n",
      "www.indeed.ae\n",
      "www.iana.org\n",
      "www.homedepot.com\n",
      "www.hao123.com\n",
      "www.google.com\n",
      "www.gmw.cn\n",
      "www.gamepedia.com\n",
      "www.exoclick.com\n",
      "www.etsy.com\n",
      "www.discovery.com\n",
      "www.deviantart.com\n",
      "www.cricbuzz.com\n",
      "www.cnblogs.com\n",
      "www.canva.com\n",
      "www.boston.com\n",
      "www.booking.com\n",
      "www.bilibili.com\n",
      "www.apple.com\n",
      "www.alipay.com\n",
      "www.alexa.com\n",
      "www.academia.edu\n",
      "wetransfer.com\n",
      "vk.com\n",
      "vimeo.com\n",
      "trello.com\n",
      "telegram.org\n",
      "store.steampowered.com\n",
      "steamcommunity.com\n",
      "stackoverflow.com\n",
      "stackexchange.com\n",
      "prezi.com\n",
      "pixabay.com\n",
      "na.op.gg\n",
      "me.pcmag.com\n",
      "mail.ru\n",
      "kakaku.com\n",
      "github.com\n",
      "fc2.com\n",
      "duckduckgo.com\n",
      "archive.org\n",
      "ae.godaddy.com\n",
      "adf.ly\n",
      "uk.com\n",
      "utk.edu\n",
      "www.colorado.edu\n",
      "www.mdpi.com\n",
      "www.nist.gov\n",
      "www.nokia.com\n",
      "www.osha.gov\n",
      "www.ucsc.edu\n",
      "www.utexas.edu\n",
      "www.worldbank.org\n",
      "www.sueddeutsche.de\n",
      "unimelb.edu.au\n",
      "www.raspberrypi.org\n",
      "buffer.com\n",
      "missouri.edu\n",
      "www.elmundo.es\n",
      "www.hbo.com\n",
      "www.nap.edu\n"
     ]
    }
   ],
   "source": [
    "f = open(\"JSC3.txt\", \"a\")\n",
    "cleaned_page_data = perform_loc_analysis('JSC3', jscleaner_urls_list, f)\n",
    "f.close()\n"
   ]
  },
  {
   "cell_type": "code",
   "execution_count": 25,
   "metadata": {},
   "outputs": [
    {
     "data": {
      "text/html": [
       "<div>\n",
       "<style scoped>\n",
       "    .dataframe tbody tr th:only-of-type {\n",
       "        vertical-align: middle;\n",
       "    }\n",
       "\n",
       "    .dataframe tbody tr th {\n",
       "        vertical-align: top;\n",
       "    }\n",
       "\n",
       "    .dataframe thead th {\n",
       "        text-align: right;\n",
       "    }\n",
       "</style>\n",
       "<table border=\"1\" class=\"dataframe\">\n",
       "  <thead>\n",
       "    <tr style=\"text-align: right;\">\n",
       "      <th></th>\n",
       "      <th>url</th>\n",
       "      <th>total_size</th>\n",
       "      <th>JS_files</th>\n",
       "      <th>JS_blank</th>\n",
       "      <th>JS_comment</th>\n",
       "      <th>JS_code</th>\n",
       "      <th>HTML_files</th>\n",
       "      <th>HTML_blank</th>\n",
       "      <th>HTML_comment</th>\n",
       "      <th>HTML_code</th>\n",
       "      <th>CSS_files</th>\n",
       "      <th>CSS_blank</th>\n",
       "      <th>CSS_comment</th>\n",
       "      <th>CSS_code</th>\n",
       "    </tr>\n",
       "  </thead>\n",
       "  <tbody>\n",
       "    <tr>\n",
       "      <th>74</th>\n",
       "      <td>adf.ly</td>\n",
       "      <td>2.9M</td>\n",
       "      <td>24</td>\n",
       "      <td>1171</td>\n",
       "      <td>1216</td>\n",
       "      <td>44649</td>\n",
       "      <td>3</td>\n",
       "      <td>247</td>\n",
       "      <td>10</td>\n",
       "      <td>4416</td>\n",
       "      <td>4</td>\n",
       "      <td>1593</td>\n",
       "      <td>204</td>\n",
       "      <td>8005</td>\n",
       "    </tr>\n",
       "    <tr>\n",
       "      <th>73</th>\n",
       "      <td>ae.godaddy.com</td>\n",
       "      <td>6.8M</td>\n",
       "      <td>378</td>\n",
       "      <td>6792</td>\n",
       "      <td>12161</td>\n",
       "      <td>92352</td>\n",
       "      <td>36</td>\n",
       "      <td>1003</td>\n",
       "      <td>3</td>\n",
       "      <td>8112</td>\n",
       "      <td>5</td>\n",
       "      <td>4444</td>\n",
       "      <td>2</td>\n",
       "      <td>31031</td>\n",
       "    </tr>\n",
       "    <tr>\n",
       "      <th>72</th>\n",
       "      <td>archive.org</td>\n",
       "      <td>3.2M</td>\n",
       "      <td>15</td>\n",
       "      <td>1799</td>\n",
       "      <td>1669</td>\n",
       "      <td>51464</td>\n",
       "      <td>1</td>\n",
       "      <td>578</td>\n",
       "      <td>270</td>\n",
       "      <td>2117</td>\n",
       "      <td>2</td>\n",
       "      <td>3277</td>\n",
       "      <td>7</td>\n",
       "      <td>18343</td>\n",
       "    </tr>\n",
       "    <tr>\n",
       "      <th>88</th>\n",
       "      <td>buffer.com</td>\n",
       "      <td>4.7M</td>\n",
       "      <td>16</td>\n",
       "      <td>1160</td>\n",
       "      <td>94</td>\n",
       "      <td>60338</td>\n",
       "      <td>9</td>\n",
       "      <td>438</td>\n",
       "      <td>0</td>\n",
       "      <td>5471</td>\n",
       "      <td>2</td>\n",
       "      <td>148</td>\n",
       "      <td>59</td>\n",
       "      <td>608</td>\n",
       "    </tr>\n",
       "    <tr>\n",
       "      <th>71</th>\n",
       "      <td>duckduckgo.com</td>\n",
       "      <td>360K</td>\n",
       "      <td>4</td>\n",
       "      <td>0</td>\n",
       "      <td>0</td>\n",
       "      <td>4</td>\n",
       "      <td>1</td>\n",
       "      <td>39</td>\n",
       "      <td>12</td>\n",
       "      <td>98</td>\n",
       "      <td>2</td>\n",
       "      <td>1600</td>\n",
       "      <td>0</td>\n",
       "      <td>10031</td>\n",
       "    </tr>\n",
       "  </tbody>\n",
       "</table>\n",
       "</div>"
      ],
      "text/plain": [
       "               url total_size JS_files JS_blank JS_comment JS_code HTML_files  \\\n",
       "74          adf.ly       2.9M       24     1171       1216   44649          3   \n",
       "73  ae.godaddy.com       6.8M      378     6792      12161   92352         36   \n",
       "72     archive.org       3.2M       15     1799       1669   51464          1   \n",
       "88      buffer.com       4.7M       16     1160         94   60338          9   \n",
       "71  duckduckgo.com       360K        4        0          0       4          1   \n",
       "\n",
       "   HTML_blank HTML_comment HTML_code CSS_files CSS_blank CSS_comment CSS_code  \n",
       "74        247           10      4416         4      1593         204     8005  \n",
       "73       1003            3      8112         5      4444           2    31031  \n",
       "72        578          270      2117         2      3277           7    18343  \n",
       "88        438            0      5471         2       148          59      608  \n",
       "71         39           12        98         2      1600           0    10031  "
      ]
     },
     "execution_count": 25,
     "metadata": {},
     "output_type": "execute_result"
    }
   ],
   "source": [
    "cleaned_page_data = cleaned_page_data.sort_values(by ='url')\n",
    "cleaned_page_data.head()"
   ]
  },
  {
   "cell_type": "code",
   "execution_count": 26,
   "metadata": {},
   "outputs": [
    {
     "data": {
      "text/html": [
       "<div>\n",
       "<style scoped>\n",
       "    .dataframe tbody tr th:only-of-type {\n",
       "        vertical-align: middle;\n",
       "    }\n",
       "\n",
       "    .dataframe tbody tr th {\n",
       "        vertical-align: top;\n",
       "    }\n",
       "\n",
       "    .dataframe thead th {\n",
       "        text-align: right;\n",
       "    }\n",
       "</style>\n",
       "<table border=\"1\" class=\"dataframe\">\n",
       "  <thead>\n",
       "    <tr style=\"text-align: right;\">\n",
       "      <th></th>\n",
       "      <th>url</th>\n",
       "      <th>total_size</th>\n",
       "      <th>JS_files</th>\n",
       "      <th>JS_blank</th>\n",
       "      <th>JS_comment</th>\n",
       "      <th>JS_code</th>\n",
       "      <th>HTML_files</th>\n",
       "      <th>HTML_blank</th>\n",
       "      <th>HTML_comment</th>\n",
       "      <th>HTML_code</th>\n",
       "      <th>CSS_files</th>\n",
       "      <th>CSS_blank</th>\n",
       "      <th>CSS_comment</th>\n",
       "      <th>CSS_code</th>\n",
       "    </tr>\n",
       "  </thead>\n",
       "  <tbody>\n",
       "    <tr>\n",
       "      <th>74</th>\n",
       "      <td>adf.ly</td>\n",
       "      <td>3.4M</td>\n",
       "      <td>25</td>\n",
       "      <td>1243</td>\n",
       "      <td>1216</td>\n",
       "      <td>51341</td>\n",
       "      <td>3</td>\n",
       "      <td>247</td>\n",
       "      <td>10</td>\n",
       "      <td>4416</td>\n",
       "      <td>4</td>\n",
       "      <td>1593</td>\n",
       "      <td>204</td>\n",
       "      <td>8005</td>\n",
       "    </tr>\n",
       "    <tr>\n",
       "      <th>73</th>\n",
       "      <td>ae.godaddy.com</td>\n",
       "      <td>6.8M</td>\n",
       "      <td>378</td>\n",
       "      <td>6792</td>\n",
       "      <td>12163</td>\n",
       "      <td>92350</td>\n",
       "      <td>35</td>\n",
       "      <td>1003</td>\n",
       "      <td>3</td>\n",
       "      <td>8111</td>\n",
       "      <td>5</td>\n",
       "      <td>4444</td>\n",
       "      <td>2</td>\n",
       "      <td>31031</td>\n",
       "    </tr>\n",
       "    <tr>\n",
       "      <th>72</th>\n",
       "      <td>archive.org</td>\n",
       "      <td>3.3M</td>\n",
       "      <td>15</td>\n",
       "      <td>1799</td>\n",
       "      <td>1669</td>\n",
       "      <td>51464</td>\n",
       "      <td>1</td>\n",
       "      <td>578</td>\n",
       "      <td>270</td>\n",
       "      <td>2117</td>\n",
       "      <td>2</td>\n",
       "      <td>3277</td>\n",
       "      <td>7</td>\n",
       "      <td>18343</td>\n",
       "    </tr>\n",
       "    <tr>\n",
       "      <th>88</th>\n",
       "      <td>buffer.com</td>\n",
       "      <td>7.1M</td>\n",
       "      <td>20</td>\n",
       "      <td>1470</td>\n",
       "      <td>117</td>\n",
       "      <td>78182</td>\n",
       "      <td>19</td>\n",
       "      <td>453</td>\n",
       "      <td>0</td>\n",
       "      <td>10101</td>\n",
       "      <td>2</td>\n",
       "      <td>148</td>\n",
       "      <td>59</td>\n",
       "      <td>608</td>\n",
       "    </tr>\n",
       "    <tr>\n",
       "      <th>71</th>\n",
       "      <td>duckduckgo.com</td>\n",
       "      <td>1.8M</td>\n",
       "      <td>4</td>\n",
       "      <td>362</td>\n",
       "      <td>74</td>\n",
       "      <td>35433</td>\n",
       "      <td>2</td>\n",
       "      <td>42</td>\n",
       "      <td>12</td>\n",
       "      <td>109</td>\n",
       "      <td>2</td>\n",
       "      <td>1600</td>\n",
       "      <td>0</td>\n",
       "      <td>10031</td>\n",
       "    </tr>\n",
       "  </tbody>\n",
       "</table>\n",
       "</div>"
      ],
      "text/plain": [
       "               url total_size JS_files JS_blank JS_comment JS_code HTML_files  \\\n",
       "74          adf.ly       3.4M       25     1243       1216   51341          3   \n",
       "73  ae.godaddy.com       6.8M      378     6792      12163   92350         35   \n",
       "72     archive.org       3.3M       15     1799       1669   51464          1   \n",
       "88      buffer.com       7.1M       20     1470        117   78182         19   \n",
       "71  duckduckgo.com       1.8M        4      362         74   35433          2   \n",
       "\n",
       "   HTML_blank HTML_comment HTML_code CSS_files CSS_blank CSS_comment CSS_code  \n",
       "74        247           10      4416         4      1593         204     8005  \n",
       "73       1003            3      8111         5      4444           2    31031  \n",
       "72        578          270      2117         2      3277           7    18343  \n",
       "88        453            0     10101         2       148          59      608  \n",
       "71         42           12       109         2      1600           0    10031  "
      ]
     },
     "execution_count": 26,
     "metadata": {},
     "output_type": "execute_result"
    }
   ],
   "source": [
    "normal_page_data = normal_page_data.sort_values(by ='url')\n",
    "normal_page_data.head()"
   ]
  },
  {
   "cell_type": "code",
   "execution_count": 27,
   "metadata": {},
   "outputs": [],
   "source": [
    "# Save the dataframes to a pickle file\n",
    "normal_page_data.to_pickle(\"NORM4_pd\")\n",
    "cleaned_page_data.to_pickle(\"JSCl4_pd\")"
   ]
  },
  {
   "cell_type": "markdown",
   "metadata": {},
   "source": [
    "#### Now perform the subject selection"
   ]
  },
  {
   "cell_type": "code",
   "execution_count": 28,
   "metadata": {},
   "outputs": [],
   "source": [
    "# Open the pickles\n",
    "normal_page_data = pd.read_pickle(\"NORM4_pd\").reset_index()\n",
    "cleaned_page_data = pd.read_pickle(\"JSCl4_pd\").reset_index()"
   ]
  },
  {
   "cell_type": "code",
   "execution_count": 29,
   "metadata": {},
   "outputs": [
    {
     "name": "stdout",
     "output_type": "stream",
     "text": [
      "-\n"
     ]
    }
   ],
   "source": [
    "import matplotlib.pyplot as plt\n",
    "from sklearn.datasets import make_blobs\n",
    "from sklearn.cluster import KMeans\n",
    "import numpy as np\n",
    "\n",
    "# First, perform a column check to make sure they are in the same order (if nothing is printed it is OK)\n",
    "normal_data_urls = list(normal_page_data['url'])\n",
    "cleaned_data_urls = list(cleaned_page_data['url'])\n",
    "for (n_url, c_url) in zip(normal_data_urls, cleaned_data_urls):\n",
    "    if n_url != c_url:\n",
    "        print(\"No\", n_url, c_url)\n",
    "\n",
    "# Then format the sizes from strings to floats\n",
    "def format_sizes(data):\n",
    "    sizes = []\n",
    "    for size in data['total_size']:\n",
    "        if \"K\" in size:\n",
    "            sizes.append(float(size.replace('K', ''))/1000)\n",
    "        elif \"M\" in size:\n",
    "            sizes.append(float(size.replace('M', '')))\n",
    "        elif \"B\" in size:\n",
    "            sizes.append(float(size.replace('B', ''))/1000000)\n",
    "    return np.array(sizes)\n",
    "\n",
    "size_of_normal = format_sizes(normal_page_data)\n",
    "size_of_cleaned = format_sizes(cleaned_page_data)\n",
    "\n",
    "normal_0_index_list = []\n",
    "cleaned_0_index_list = []\n",
    "\n",
    "\n",
    "# Now go through the lists and note the ones of <=0.0\n",
    "for (idx, size) in enumerate(size_of_normal):\n",
    "    if size <= 0.0:\n",
    "        print(normal_page_data.iloc[idx].url)\n",
    "        normal_0_index_list.append(idx)\n",
    "print(\"-\")\n",
    "for (idx, size) in enumerate(size_of_cleaned):\n",
    "    if size <= 0.0:\n",
    "        print(cleaned_page_data.iloc[idx].url)\n",
    "        cleaned_0_index_list.append(idx)\n",
    "        \n",
    "combined_0_index_list = list(set(normal_0_index_list + cleaned_0_index_list))\n",
    "combined_0_index_list.sort()"
   ]
  },
  {
   "cell_type": "code",
   "execution_count": 31,
   "metadata": {},
   "outputs": [
    {
     "name": "stdout",
     "output_type": "stream",
     "text": [
      "[]\n"
     ]
    }
   ],
   "source": [
    "# Now create the sets (normal and cleaned) without the 0 pages\n",
    "print(combined_0_index_list)\n",
    "normal_page_data = normal_page_data.drop(index=combined_0_index_list)\n",
    "cleaned_page_data = cleaned_page_data.drop(index=combined_0_index_list) "
   ]
  },
  {
   "cell_type": "code",
   "execution_count": 32,
   "metadata": {},
   "outputs": [
    {
     "name": "stdout",
     "output_type": "stream",
     "text": [
      "93\n",
      "93\n"
     ]
    }
   ],
   "source": [
    "print(len(normal_page_data))\n",
    "print(len(cleaned_page_data))"
   ]
  },
  {
   "cell_type": "code",
   "execution_count": 33,
   "metadata": {},
   "outputs": [],
   "source": [
    "# Again, perform a column check to make sure they are in the same order (if nothing is printed it is OK)\n",
    "normal_data_urls = list(normal_page_data['url'])\n",
    "cleaned_data_urls = list(cleaned_page_data['url'])\n",
    "for (n_url, c_url) in zip(normal_data_urls, cleaned_data_urls):\n",
    "    if n_url != c_url:\n",
    "        print(\"No\", n_url, c_url)"
   ]
  },
  {
   "cell_type": "code",
   "execution_count": 34,
   "metadata": {},
   "outputs": [],
   "source": [
    "# Now get the sizes of normal and create groups\n",
    "size_of_normal = format_sizes(normal_page_data)"
   ]
  },
  {
   "cell_type": "code",
   "execution_count": 35,
   "metadata": {},
   "outputs": [
    {
     "data": {
      "image/png": "[encoded data removed]",
      "text/plain": [
       "<Figure size 432x288 with 1 Axes>"
      ]
     },
     "metadata": {
      "needs_background": "light"
     },
     "output_type": "display_data"
    }
   ],
   "source": [
    "plt.plot(size_of_normal, np.zeros_like(size_of_normal) + 0, 'x')\n",
    "plt.show()"
   ]
  },
  {
   "cell_type": "code",
   "execution_count": 36,
   "metadata": {},
   "outputs": [],
   "source": [
    "# Now join the data frames"
   ]
  },
  {
   "cell_type": "code",
   "execution_count": 37,
   "metadata": {},
   "outputs": [],
   "source": [
    "normal_page_data = normal_page_data.drop('index', axis=1)\n",
    "cleaned_page_data = cleaned_page_data.drop('index', axis=1)"
   ]
  },
  {
   "cell_type": "code",
   "execution_count": 38,
   "metadata": {},
   "outputs": [],
   "source": [
    "# Select usable columns\n",
    "normal_page_data.columns = [\"Normal_URL\", \"Normal_Size\", \"Normal_JS_files\", \"Normal_JS_blank\", \"Normal_JS_comment\", \"Normal_JS_code\", \"Normal_HTML_files\", \"Normal_HTML_blank\", \"Normal_HTML_comment\", \"Normal_HTML_code\", \"Normal_CSS_files\", \"Normal_CSS_blank\", \"Normal_CSS_comment\", \"Normal_CSS_code\"]\n",
    "cleaned_page_data.columns = [\"Cleaned_URL\", \"Cleaned_Size\", \"Cleaned_JS_files\", \"Cleaned_JS_blank\", \"Cleaned_JS_comment\", \"Cleaned_JS_code\", \"Cleaned_HTML_files\", \"Cleaned_HTML_blank\", \"Cleaned_HTML_comment\", \"Cleaned_HTML_code\", \"Cleaned_CSS_files\", \"Cleaned_CSS_blank\", \"Cleaned_CSS_comment\", \"Cleaned_CSS_code\"]\n",
    "\n",
    "normal_page_data = normal_page_data.set_index('Normal_URL')\n",
    "cleaned_page_data = cleaned_page_data.set_index('Cleaned_URL')"
   ]
  },
  {
   "cell_type": "code",
   "execution_count": 39,
   "metadata": {},
   "outputs": [],
   "source": [
    "# Drop duplicates\n",
    "normal_page_data = normal_page_data[~normal_page_data.index.duplicated(keep='first')]\n",
    "cleaned_page_data = cleaned_page_data[~cleaned_page_data.index.duplicated(keep='first')]"
   ]
  },
  {
   "cell_type": "code",
   "execution_count": 40,
   "metadata": {},
   "outputs": [],
   "source": [
    "# Again, perform a column check to make sure they are in the same order (if nothing is printed it is OK)\n",
    "normal_data_urls = list(normal_page_data.index)\n",
    "cleaned_data_urls = list(cleaned_page_data.index)\n",
    "for (n_url, c_url) in zip(normal_data_urls, cleaned_data_urls):\n",
    "    if n_url != c_url:\n",
    "        print(\"No\", n_url, c_url) "
   ]
  },
  {
   "cell_type": "code",
   "execution_count": 41,
   "metadata": {},
   "outputs": [],
   "source": [
    "df = normal_page_data.join(cleaned_page_data)"
   ]
  },
  {
   "cell_type": "code",
   "execution_count": 42,
   "metadata": {},
   "outputs": [],
   "source": [
    "def format_sizes(data, col):\n",
    "    sizes = []\n",
    "    for size in data[col]:\n",
    "        if \"K\" in size:\n",
    "            sizes.append(float(size.replace('K', ''))/1000)\n",
    "        elif \"M\" in size:\n",
    "            sizes.append(float(size.replace('M', '')))\n",
    "        elif \"B\" in size:\n",
    "            sizes.append(float(size.replace('B', ''))/1000000)\n",
    "    return np.array(sizes)\n",
    "\n",
    "# Human readable size to usable number\n",
    "sizes = format_sizes(df, 'Normal_Size')\n",
    "df['normal_size_float'] = sizes"
   ]
  },
  {
   "cell_type": "code",
   "execution_count": 43,
   "metadata": {},
   "outputs": [],
   "source": [
    "df = df.sort_values(by=['normal_size_float'])"
   ]
  },
  {
   "cell_type": "code",
   "execution_count": 44,
   "metadata": {},
   "outputs": [
    {
     "data": {
      "text/plain": [
       "92"
      ]
     },
     "execution_count": 44,
     "metadata": {},
     "output_type": "execute_result"
    }
   ],
   "source": [
    "len(df)"
   ]
  },
  {
   "cell_type": "code",
   "execution_count": 45,
   "metadata": {},
   "outputs": [
    {
     "data": {
      "text/plain": [
       "Index(['Normal_Size', 'Normal_JS_files', 'Normal_JS_blank',\n",
       "       'Normal_JS_comment', 'Normal_JS_code', 'Normal_HTML_files',\n",
       "       'Normal_HTML_blank', 'Normal_HTML_comment', 'Normal_HTML_code',\n",
       "       'Normal_CSS_files', 'Normal_CSS_blank', 'Normal_CSS_comment',\n",
       "       'Normal_CSS_code', 'Cleaned_Size', 'Cleaned_JS_files',\n",
       "       'Cleaned_JS_blank', 'Cleaned_JS_comment', 'Cleaned_JS_code',\n",
       "       'Cleaned_HTML_files', 'Cleaned_HTML_blank', 'Cleaned_HTML_comment',\n",
       "       'Cleaned_HTML_code', 'Cleaned_CSS_files', 'Cleaned_CSS_blank',\n",
       "       'Cleaned_CSS_comment', 'Cleaned_CSS_code', 'normal_size_float'],\n",
       "      dtype='object')"
      ]
     },
     "execution_count": 45,
     "metadata": {},
     "output_type": "execute_result"
    }
   ],
   "source": [
    "df.columns"
   ]
  },
  {
   "cell_type": "code",
   "execution_count": 46,
   "metadata": {},
   "outputs": [],
   "source": [
    "# Drop the columns containing UNK values\n",
    "df.drop(df[df.Normal_JS_code == \"UNK\"].index, inplace=True)\n",
    "df.drop(df[df.Normal_HTML_code == \"UNK\"].index, inplace=True)\n",
    "df.drop(df[df.Normal_CSS_code == \"UNK\"].index, inplace=True)\n",
    "\n",
    "df.drop(df[df.Cleaned_JS_code == \"UNK\"].index, inplace=True)\n",
    "df.drop(df[df.Cleaned_HTML_code == \"UNK\"].index, inplace=True)\n",
    "df.drop(df[df.Cleaned_CSS_code == \"UNK\"].index, inplace=True)"
   ]
  },
  {
   "cell_type": "code",
   "execution_count": 52,
   "metadata": {},
   "outputs": [
    {
     "name": "stdout",
     "output_type": "stream",
     "text": [
      "24.666666666666668\n",
      "24 ['572K', '920K', '964K', '1012K', '1.1M', '1.3M', '1.4M', '1.4M', '1.7M', '1.8M', '2.1M', '3.0M', '3.3M', '3.3M', '3.3M', '3.4M', '3.6M', '3.9M', '4.0M', '4.0M', '4.1M', '4.2M', '4.4M', '4.6M']\n",
      "24 ['4.7M', '4.7M', '5.1M', '5.4M', '5.5M', '5.6M', '5.6M', '5.7M', '6.0M', '6.2M', '6.2M', '6.2M', '6.6M', '6.6M', '6.7M', '6.8M', '6.8M', '6.9M', '7.1M', '7.1M', '7.2M', '7.3M', '7.4M', '7.5M']\n",
      "26 ['8.1M', '8.1M', '8.3M', '8.3M', '8.4M', '8.7M', '8.8M', '8.9M', '9.0M', '9.1M', '9.4M', '9.6M', '9.7M', '11M', '11M', '11M', '11M', '13M', '14M', '14M', '15M', '19M', '24M', '28M', '31M', '46M']\n"
     ]
    }
   ],
   "source": [
    "# Get the size of the total group and separate into three groups\n",
    "sizes = list(df[\"Normal_Size\"])\n",
    "print(len(sizes) / 3)\n",
    "\n",
    "set_1 = sizes[0:24]\n",
    "set_2 = sizes[24:48]\n",
    "set_3 = sizes[48:]\n",
    "\n",
    "print(len(set_1), set_1)\n",
    "print(len(set_2), set_2)\n",
    "print(len(set_3), set_3)"
   ]
  },
  {
   "cell_type": "code",
   "execution_count": 53,
   "metadata": {},
   "outputs": [],
   "source": [
    "# Insert the correct indices found in the previous cell here\n",
    "df_small = df[0:24]\n",
    "df_med = df[24:48]\n",
    "df_large = df[48:]"
   ]
  },
  {
   "cell_type": "code",
   "execution_count": 54,
   "metadata": {},
   "outputs": [],
   "source": [
    "# Randomly select a set of 10 subjects from each size category (with a seed of 42)\n",
    "small_sample = df_small.sample(10, random_state=42).reset_index()\n",
    "med_sample = df_med.sample(10, random_state=42).reset_index()\n",
    "large_sample = df_large.sample(10, random_state=42).reset_index()"
   ]
  },
  {
   "cell_type": "code",
   "execution_count": 55,
   "metadata": {},
   "outputs": [],
   "source": [
    "# Convert the data to a human readable latex table\n",
    "\n",
    "small_sample = small_sample[[\"Normal_URL\", \"Normal_Size\", \"Cleaned_Size\", \"Normal_JS_code\",\"Normal_HTML_code\", \"Normal_CSS_code\", \"Cleaned_JS_code\", \"Cleaned_HTML_code\", \"Cleaned_CSS_code\"]]\n",
    "small_sample.insert(3, \"Category\", np.full((10), \"Small\"))\n",
    "small_sample.columns = [\"URL\", \"Cluttered Size\", \"Declutterd Size\", \"Category\", \"OG LOC JS\",\"OG LOC HTML\", \"OG LOC CSS\", \"DC LOC JS\", \"DC LOC HTML\", \"DC LOC CSS\"]\n",
    "\n",
    "# SORT\n",
    "small_sample['float_size'] = format_sizes(small_sample, 'Cluttered Size')\n",
    "small_sample = small_sample.sort_values(by=['float_size'])\n",
    "small_sample = small_sample.drop(['float_size'],  axis=1)\n",
    "small_sample[\"Cluttered Size\"] = [value + 'B' for value in list(small_sample[\"Cluttered Size\"])]\n",
    "small_sample[\"Declutterd Size\"] = [value + 'B' for value in list(small_sample[\"Declutterd Size\"])]\n",
    "\n",
    "\n",
    "med_sample = med_sample[[\"Normal_URL\", \"Normal_Size\", \"Cleaned_Size\", \"Normal_JS_code\",\"Normal_HTML_code\", \"Normal_CSS_code\", \"Cleaned_JS_code\", \"Cleaned_HTML_code\", \"Cleaned_CSS_code\"]]\n",
    "med_sample.insert(3, \"Category\", np.full((10), \"Medium\"))\n",
    "med_sample.columns = [\"URL\", \"Cluttered Size\", \"Declutterd Size\", \"Category\", \"OG LOC JS\",\"OG LOC HTML\", \"OG LOC CSS\", \"DC LOC JS\", \"DC LOC HTML\", \"DC LOC CSS\"]\n",
    "# SORT\n",
    "med_sample['float_size'] = format_sizes(med_sample, 'Cluttered Size')\n",
    "med_sample = med_sample.sort_values(by=['float_size'])\n",
    "med_sample = med_sample.drop(['float_size'],  axis=1)\n",
    "med_sample[\"Cluttered Size\"] = [value + 'B' for value in list(med_sample[\"Cluttered Size\"])]\n",
    "med_sample[\"Declutterd Size\"] = [value + 'B' for value in list(med_sample[\"Declutterd Size\"])]\n",
    "\n",
    "\n",
    "large_sample = large_sample[[\"Normal_URL\", \"Normal_Size\", \"Cleaned_Size\", \"Normal_JS_code\",\"Normal_HTML_code\", \"Normal_CSS_code\", \"Cleaned_JS_code\", \"Cleaned_HTML_code\", \"Cleaned_CSS_code\"]]\n",
    "large_sample.insert(3, \"Category\", np.full((10), \"Large\"))\n",
    "large_sample.columns = [\"URL\", \"Cluttered Size\", \"Declutterd Size\", \"Category\", \"OG LOC JS\",\"OG LOC HTML\", \"OG LOC CSS\", \"DC LOC JS\", \"DC LOC HTML\", \"DC LOC CSS\"]\n",
    "# SORT\n",
    "large_sample['float_size'] = format_sizes(large_sample, 'Cluttered Size')\n",
    "large_sample = large_sample.sort_values(by=['float_size'])\n",
    "large_sample = large_sample.drop(['float_size'],  axis=1)\n",
    "large_sample[\"Cluttered Size\"] = [value + 'B' for value in list(large_sample[\"Cluttered Size\"])]\n",
    "large_sample[\"Declutterd Size\"] = [value + 'B' for value in list(large_sample[\"Declutterd Size\"])]"
   ]
  },
  {
   "cell_type": "code",
   "execution_count": 57,
   "metadata": {},
   "outputs": [
    {
     "name": "stdout",
     "output_type": "stream",
     "text": [
      "\\begin{tabular}{lllllllllll}\n",
      "\\toprule\n",
      "{} &                     URL & Cluttered Size & Declutterd Size & Category & OG LOC JS & OG LOC HTML & OG LOC CSS & DC LOC JS & DC LOC HTML & DC LOC CSS \\\\\n",
      "\\midrule\n",
      "0  &                 fc2.com &          572KB &           564KB &    Small &      4521 &         326 &       2210 &      4505 &         326 &       2210 \\\\\n",
      "1  &            telegram.org &          920KB &           828KB &    Small &      2794 &         321 &       6494 &       550 &         321 &       6494 \\\\\n",
      "2  &             www.nih.gov &          1.3MB &           2.1MB &    Small &     22457 &           4 &        555 &     29155 &         866 &      12125 \\\\\n",
      "3  &          www.office.com &          1.7MB &            18MB &    Small &     13458 &        1256 &       8119 &    238496 &        1338 &      21820 \\\\\n",
      "4  &          duckduckgo.com &          1.8MB &           360KB &    Small &     35433 &         109 &      10031 &         4 &          98 &      10031 \\\\\n",
      "5  &              www.rt.com &          3.0MB &           2.9MB &    Small &     38487 &        3425 &      21329 &     36237 &        3425 &      21329 \\\\\n",
      "6  &            www.ucsc.edu &          3.3MB &           2.0MB &    Small &     25922 &        4631 &        464 &     11441 &         410 &       4976 \\\\\n",
      "7  &        www.colorado.edu &          3.6MB &           264KB &    Small &     36375 &        4635 &        265 &      1630 &           4 &         80 \\\\\n",
      "8  &             pixabay.com &          4.0MB &           1.3MB &    Small &     34116 &        5417 &       4724 &      9582 &         786 &       4724 \\\\\n",
      "9  &                 utk.edu &          4.2MB &           1.5MB &    Small &     36161 &        5545 &       8506 &     11624 &         921 &       8506 \\\\\n",
      "10 &       www.sindonews.com &          4.7MB &           2.2MB &   Medium &     60680 &        4189 &       4823 &     23064 &         204 &        616 \\\\\n",
      "11 &            www.osha.gov &          4.7MB &           4.5MB &   Medium &     34327 &        3144 &      19679 &     32073 &        3145 &      19679 \\\\\n",
      "12 &            missouri.edu &          5.6MB &           2.7MB &   Medium &     35247 &        5403 &      15862 &      8301 &         772 &      15862 \\\\\n",
      "13 &         www.booking.com &          6.0MB &           4.1MB &   Medium &     61556 &       10902 &      54391 &     35001 &       10396 &      53983 \\\\\n",
      "14 &            www.mdpi.com &          6.2MB &           3.5MB &   Medium &     41608 &        9578 &      16062 &     17075 &        4947 &      16062 \\\\\n",
      "15 &     www.raspberrypi.org &          6.2MB &           5.9MB &   Medium &     46908 &       16545 &        464 &     44657 &       15820 &        464 \\\\\n",
      "16 &       www.homedepot.com &          6.6MB &           5.5MB &   Medium &     16739 &        3067 &          3 &     14715 &        3067 &          3 \\\\\n",
      "17 &          ae.godaddy.com &          6.8MB &           6.8MB &   Medium &     92350 &        8111 &      31031 &     92352 &        8112 &      31031 \\\\\n",
      "18 &  store.steampowered.com &          7.1MB &           6.9MB &   Medium &     17373 &       13846 &      11567 &     15129 &       13846 &      11567 \\\\\n",
      "19 &           www.indeed.ae &          7.3MB &           6.3MB &   Medium &     61220 &        4714 &      20372 &     42071 &        2464 &      19859 \\\\\n",
      "20 &        www.typeform.com &          8.1MB &           3.7MB &    Large &    102582 &        8770 &       1044 &     43485 &        4138 &       1044 \\\\\n",
      "21 &    www.researchgate.net &          8.1MB &           4.7MB &    Large &    116086 &        5196 &      27014 &     77066 &         560 &      27014 \\\\\n",
      "22 &            www.yelp.com &          8.7MB &           8.4MB &    Large &     56665 &       17865 &      43263 &     47658 &       17865 &      43263 \\\\\n",
      "23 &              kakaku.com &          9.0MB &           6.3MB &    Large &    101395 &       13735 &       6548 &     78069 &        9104 &       6548 \\\\\n",
      "24 &      steamcommunity.com &          9.1MB &           1.5MB &    Large &     22514 &        1940 &       8093 &     20193 &         538 &       8093 \\\\\n",
      "25 &         www.tistory.com &          9.6MB &           9.6MB &    Large &     24184 &         495 &       7023 &     24082 &         495 &       7023 \\\\\n",
      "26 &         www.netflix.com &           11MB &            11MB &    Large &      1083 &       23732 &       5781 &      1083 &       23732 &       5781 \\\\\n",
      "27 &       www.worldbank.org &           11MB &            12MB &    Large &     60677 &       62704 &      63298 &     57052 &       64838 &      63298 \\\\\n",
      "28 &          www.ltn.com.tw &           28MB &            28MB &    Large &    225749 &        6517 &      25981 &    223069 &        6102 &      25981 \\\\\n",
      "29 &      www.thetimes.co.uk &           31MB &            26MB &    Large &    354557 &       25924 &        787 &    338192 &       25500 &        768 \\\\\n",
      "\\bottomrule\n",
      "\\end{tabular}\n",
      "\n"
     ]
    }
   ],
   "source": [
    "print(pd.concat([small_sample, med_sample, large_sample],ignore_index=True).to_latex())"
   ]
  }
 ],
 "metadata": {
  "kernelspec": {
   "display_name": "Python 3",
   "language": "python",
   "name": "python3"
  },
  "language_info": {
   "codemirror_mode": {
    "name": "ipython",
    "version": 3
   },
   "file_extension": ".py",
   "mimetype": "text/x-python",
   "name": "python",
   "nbconvert_exporter": "python",
   "pygments_lexer": "ipython3",
   "version": "3.6.8"
  }
 },
 "nbformat": 4,
 "nbformat_minor": 2
}
